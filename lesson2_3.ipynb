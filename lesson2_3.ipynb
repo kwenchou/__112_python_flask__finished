{
 "cells": [
  {
   "cell_type": "code",
   "execution_count": 3,
   "metadata": {},
   "outputs": [
    {
     "name": "stdout",
     "output_type": "stream",
     "text": [
      "30\n"
     ]
    }
   ],
   "source": [
    "import math\n",
    "\n",
    "def find_missing_angle(opposite, hypotenuse, degree_or_radian='degree'):\n",
    "    \"\"\"Calculate the missing angle in a right triangle given the opposite and hypotenuse.\n",
    "\n",
    "    Args:\n",
    "        opposite (float): The length of the side opposite the angle we want to find, in the same unit as hypotenuse.\n",
    "        hypotenuse (float): The length of the hypotenuse of the right triangle, in the same unit as opposite.\n",
    "        degree_or_radian (str, optional): Indicates whether the function should return the result in degrees or radians.\n",
    "            Default is 'degree', meaning the function returns the result in degrees.\n",
    "\n",
    "    Returns:\n",
    "        float: The measure of the missing angle, in degrees or radians, depending on the value of degree_or_radian.\n",
    "    \"\"\"\n",
    "    adjacent = math.sqrt(hypotenuse**2 - opposite**2)\n",
    "    radians = math.atan(opposite/adjacent)\n",
    "    degree = math.degrees(radians)\n",
    "    \n",
    "    if degree_or_radian == 'radian':\n",
    "        return radians\n",
    "    else:\n",
    "        return degree\n",
    "\n",
    "\n",
    "print(round(find_missing_angle(2.5, 5, 'degree')))"
   ]
  }
 ],
 "metadata": {
  "kernelspec": {
   "display_name": "Python 3",
   "language": "python",
   "name": "python3"
  },
  "language_info": {
   "codemirror_mode": {
    "name": "ipython",
    "version": 3
   },
   "file_extension": ".py",
   "mimetype": "text/x-python",
   "name": "python",
   "nbconvert_exporter": "python",
   "pygments_lexer": "ipython3",
   "version": "3.10.4"
  },
  "orig_nbformat": 4
 },
 "nbformat": 4,
 "nbformat_minor": 2
}
