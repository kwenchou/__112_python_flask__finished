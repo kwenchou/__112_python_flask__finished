{
 "cells": [
  {
   "cell_type": "code",
   "execution_count": 2,
   "metadata": {},
   "outputs": [
    {
     "name": "stdout",
     "output_type": "stream",
     "text": [
      "連線成功\n",
      "<class 'list'>\n",
      "382\n",
      "                        車數  可借   行政區                   時間                  地址   \n",
      "站點名稱                                                                            \n",
      "YouBike2.0_復興南路二段273號前  21   5   大安區  2023-06-03 15:56:15        復興南路二段273號西側  \\\n",
      "YouBike2.0_新生南路三段82號前   20  10   大安區  2023-06-03 15:57:14           新生南路三段82號   \n",
      "YouBike2.0_羅斯福路三段311號前  11   7   大安區  2023-06-03 15:57:14          羅斯福路三段311號   \n",
      "YouBike2.0_第二學生活動中心     27   6   大安區  2023-06-03 15:56:15     羅斯福路四段107號(西南側)   \n",
      "YouBike2.0_臺灣科技大學後門     39   9   大安區  2023-06-03 15:53:15  基隆路四段41巷68弄臺科帆船大樓旁   \n",
      "...                     ..  ..   ...                  ...                 ...   \n",
      "YouBike2.0_臺大博理館西側      22   6  臺大專區  2023-06-03 15:57:15             臺大博理館西側   \n",
      "YouBike2.0_臺大博雅館西側      56   5  臺大專區  2023-06-03 15:35:16             臺大博雅館西側   \n",
      "YouBike2.0_臺大森林館北側      10   9  臺大專區  2023-06-03 15:48:04           臺大森林系學系北側   \n",
      "YouBike2.0_臺大新生教室南側     18   8  臺大專區  2023-06-03 15:28:14           臺大新生教學館南側   \n",
      "YouBike2.0_臺大鄭江樓北側      10   7  臺大專區  2023-06-03 15:14:14           臺大新聞研究所南側   \n",
      "\n",
      "                        可還 狀態  \n",
      "站點名稱                           \n",
      "YouBike2.0_復興南路二段273號前  16  1  \n",
      "YouBike2.0_新生南路三段82號前   10  1  \n",
      "YouBike2.0_羅斯福路三段311號前   3  1  \n",
      "YouBike2.0_第二學生活動中心     21  1  \n",
      "YouBike2.0_臺灣科技大學後門     30  1  \n",
      "...                     .. ..  \n",
      "YouBike2.0_臺大博理館西側      16  1  \n",
      "YouBike2.0_臺大博雅館西側      51  1  \n",
      "YouBike2.0_臺大森林館北側       1  1  \n",
      "YouBike2.0_臺大新生教室南側     10  1  \n",
      "YouBike2.0_臺大鄭江樓北側       3  1  \n",
      "\n",
      "[382 rows x 7 columns]\n"
     ]
    }
   ],
   "source": [
    "import requests\n",
    "import pandas as pd\n",
    "\n",
    "\n",
    "url = 'https://tcgbusfs.blob.core.windows.net/dotapp/youbike/v2/youbike_immediate.json'\n",
    "response = requests.request('GET',url)\n",
    "if response.status_code == 200:\n",
    "    print(\"連線成功\")\n",
    "    all_data = response.json()\n",
    "    print(type(all_data))\n",
    "else:\n",
    "    print(f\"連線失敗:{response.status_code}\")\n",
    "\n",
    "\n",
    "\n",
    "dataFrame = pd.DataFrame(data=all_data,columns=['sna','tot','sbi','sarea','mday','ar','bemp','act'])\n",
    "\n",
    "dataFrame.columns = [\"站點名稱\",\"車數\",\"可借\",\"行政區\",\"時間\",\"地址\",\"可還\",\"狀態\"]\n",
    "dataFrame1 = dataFrame.set_index(\"站點名稱\")\n",
    "\n",
    "mask = (dataFrame1['可借'] <= 10) & (dataFrame1['可借'] >= 5)\n",
    "mask_dataFrame = dataFrame1[mask]\n",
    "count = mask_dataFrame[\"車數\"].count()\n",
    "print(count)\n",
    "print(mask_dataFrame)\n",
    "\n"
   ]
  }
 ],
 "metadata": {
  "kernelspec": {
   "display_name": "venv",
   "language": "python",
   "name": "python3"
  },
  "language_info": {
   "codemirror_mode": {
    "name": "ipython",
    "version": 3
   },
   "file_extension": ".py",
   "mimetype": "text/x-python",
   "name": "python",
   "nbconvert_exporter": "python",
   "pygments_lexer": "ipython3",
   "version": "3.10.6"
  },
  "orig_nbformat": 4
 },
 "nbformat": 4,
 "nbformat_minor": 2
}
