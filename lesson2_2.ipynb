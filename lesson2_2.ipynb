{
 "cells": [
  {
   "cell_type": "code",
   "execution_count": 7,
   "metadata": {},
   "outputs": [
    {
     "name": "stdout",
     "output_type": "stream",
     "text": [
      "579\n"
     ]
    }
   ],
   "source": [
    "n = 123\n",
    "m = 456\n",
    "result = input(f\"請輸入 {n} + {m} 的數值:\")\n",
    "print(result)"
   ]
  },
  {
   "cell_type": "code",
   "execution_count": 10,
   "metadata": {},
   "outputs": [
    {
     "name": "stdout",
     "output_type": "stream",
     "text": [
      "123.456 + 234.567 + 345.678 = 703.701\n"
     ]
    }
   ],
   "source": [
    "#請輸入第一個數:87.9\n",
    "#請輸入第二個數:45\n",
    "#請輸入等三個數:87.5\n",
    "\n",
    "n = float(input(\"請輸入第1個數:\"))\n",
    "m = float(input(\"請輸入第2個數:\"))\n",
    "x = float(input(\"請輸入第3個數:\"))\n",
    "\n",
    "result = n + m + x\n",
    "print(f\"{n} + {m} + {x} = {result}\")"
   ]
  },
  {
   "cell_type": "code",
   "execution_count": 11,
   "metadata": {},
   "outputs": [
    {
     "name": "stdout",
     "output_type": "stream",
     "text": [
      "總合為 = 30.0\n"
     ]
    }
   ],
   "source": [
    "#請輸入第一個數:87.9\n",
    "#請輸入第二個數:45\n",
    "#請輸入等三個數:87.5\n",
    "result = 0\n",
    "n = float(input(\"請輸入第1個數:\"))\n",
    "result += n\n",
    "n = float(input(\"請輸入第2個數:\"))\n",
    "result += n\n",
    "n = float(input(\"請輸入第3個數:\"))\n",
    "result += n\n",
    "\n",
    "print(f\"總合為 = {result}\")"
   ]
  },
  {
   "attachments": {},
   "cell_type": "markdown",
   "metadata": {},
   "source": [
    "- 請輸入梯形的上底(公分):5\n",
    "- 請輸入梯形的下底(公分):10\n",
    "- 請輸入梯形的高(公分):2\n",
    "> 梯形的面積:15平方公分"
   ]
  },
  {
   "attachments": {},
   "cell_type": "markdown",
   "metadata": {},
   "source": [
    "- 讓使用者輸入直角三角形的對邊\n",
    "- 讓使用者輸入直角三角形的斜邊\n",
    "- 計算角度\n",
    "\n",
    "- 請輸入對邊:2.5\n",
    "- 請輸入斜邊:5\n",
    "- 直角三角形的角度為:\n",
    "\n",
    "- 公式:\n",
    "    - sin(x) = 對邊 / 斜邊\n",
    "    - x是radian(弧度)"
   ]
  },
  {
   "cell_type": "code",
   "execution_count": 16,
   "metadata": {},
   "outputs": [
    {
     "name": "stdout",
     "output_type": "stream",
     "text": [
      "直角三角形的角度為:30.0\n"
     ]
    }
   ],
   "source": [
    "import math\n",
    "m = float(input(\"請輸入對邊:\"))\n",
    "n = float(input(\"請輸入斜邊:\"))\n",
    "degree = math.degrees(math.asin(m/n))\n",
    "print(f\"直角三角形的角度為:{round(degree,2)}\")"
   ]
  }
 ],
 "metadata": {
  "kernelspec": {
   "display_name": "Python 3",
   "language": "python",
   "name": "python3"
  },
  "language_info": {
   "codemirror_mode": {
    "name": "ipython",
    "version": 3
   },
   "file_extension": ".py",
   "mimetype": "text/x-python",
   "name": "python",
   "nbconvert_exporter": "python",
   "pygments_lexer": "ipython3",
   "version": "3.10.4"
  },
  "orig_nbformat": 4
 },
 "nbformat": 4,
 "nbformat_minor": 2
}
